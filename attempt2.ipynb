{
 "cells": [
  {
   "cell_type": "code",
   "execution_count": 88,
   "metadata": {},
   "outputs": [],
   "source": [
    "import pandas as pd\n",
    "import numpy as np\n",
    "import matplotlib.pyplot as plt\n",
    "import warnings\n",
    "import sys\n",
    "from sklearn.model_selection import train_test_split, cross_val_score\n",
    "from sklearn.linear_model import LogisticRegression\n",
    "from sklearn.svm import SVC\n",
    "from sklearn.tree import DecisionTreeClassifier\n",
    "from sklearn.ensemble import RandomForestClassifier, GradientBoostingClassifier, StackingClassifier\n",
    "from xgboost import XGBClassifier\n",
    "from sklearn.metrics import accuracy_score, confusion_matrix\n",
    "from sklearn.decomposition import PCA\n",
    "from sklearn.preprocessing import StandardScaler\n",
    "from sklearn.model_selection import GridSearchCV, RandomizedSearchCV\n",
    "from sklearn.neighbors import KNeighborsClassifier\n",
    "\n",
    "sys.path.append('/Users/alexkelber/Documents/DataScience')\n",
    "warnings.filterwarnings('ignore')\n",
    "\n",
    "from custom_ml_utils.compare_models import ModelComparer\n",
    "\n",
    "train, test = pd.read_csv('input/train.csv'), pd.read_csv('input/test.csv')"
   ]
  },
  {
   "cell_type": "code",
   "execution_count": 82,
   "metadata": {},
   "outputs": [
    {
     "data": {
      "text/plain": [
       "Age             0\n",
       "CabinDeck       0\n",
       "CabinPort       0\n",
       "CryoSleep       0\n",
       "Destination     0\n",
       "FoodCourt       0\n",
       "GroupSize       0\n",
       "HomePlanet      0\n",
       "RoomService     0\n",
       "ShoppingMall    0\n",
       "Spa             0\n",
       "VIP             0\n",
       "VRDeck          0\n",
       "dtype: int64"
      ]
     },
     "execution_count": 82,
     "metadata": {},
     "output_type": "execute_result"
    }
   ],
   "source": [
    "full = pd.concat([train.drop('Transported', axis=1), test], ignore_index=True)\n",
    "\n",
    "# Get group and group size from PassengerId\n",
    "full['Group'] = full['PassengerId'].apply(lambda x: x[:4])\n",
    "full['GroupSize'] = full.groupby(['Group'])['PassengerId'].transform('count')\n",
    "\n",
    "# Get Cabin deck and Cabin ship side from Cabin\n",
    "def parse_cabin_info(row):\n",
    "    if not pd.isnull(row['Cabin']):\n",
    "        row['CabinDeck'] = ord(row['Cabin'].split('/')[0]) - 65\n",
    "        row['CabinPort'] = 1 if row['Cabin'][-1] == 'P' else 0\n",
    "    return row\n",
    "full = full.apply(parse_cabin_info, axis=1)\n",
    "\n",
    "# Convert boolean columns to numeric\n",
    "for col in ['CryoSleep', 'VIP']:\n",
    "    full[col] = full[col].replace({True: 1, False: 0})\n",
    "\n",
    "# Get group and total information for various features:\n",
    "#   1. Mode imputation categories\n",
    "mode_categories = ['CryoSleep', 'VIP', 'HomePlanet', 'Destination', 'CabinDeck', 'CabinPort']\n",
    "group_modes = [full.groupby('Group')[col].agg(pd.Series.mode) for col in mode_categories]\n",
    "overall_modes = [full[col].mode()[0] for col in mode_categories]\n",
    "\n",
    "#   2. Mean imputation categories (spending categories)\n",
    "mean_categories = ['RoomService', 'Spa', 'VRDeck', 'FoodCourt', 'ShoppingMall']\n",
    "group_means = [full.groupby('Group')[col].agg('mean') for col in mean_categories]\n",
    "overall_means = [full[col].mean() for col in mean_categories]\n",
    "\n",
    "# Impute values for all these categories based on group\n",
    "def impute_data(row):\n",
    "    for i, col in enumerate(mode_categories):\n",
    "        if pd.isnull(row[col]):\n",
    "            val = group_modes[i].loc[row['Group']]\n",
    "            if not isinstance(val, str) and not isinstance(val, float):\n",
    "                val = val[0] if len(val) > 0 else None\n",
    "            if not isinstance(val, str) and not isinstance(val, float) and (val is None or np.isnan(val)):\n",
    "                val = overall_modes[i]\n",
    "            row[col] = val\n",
    "    for i, col in enumerate(mean_categories):\n",
    "        if pd.isnull(row[col]):\n",
    "            if row['CryoSleep'] == 0:\n",
    "                row[col] = 0\n",
    "            else:\n",
    "                val = group_means[i].loc[row['Group']]\n",
    "                if np.isnan(val):\n",
    "                    val = overall_means[i]\n",
    "                row[col] = val\n",
    "    return row\n",
    "full = full.apply(impute_data, axis=1)\n",
    "\n",
    "# Convert spending categories into bins\n",
    "for col in mean_categories:\n",
    "    full[col].replace(to_replace=0, value=np.nan, inplace=True)\n",
    "    full[col] = pd.qcut(full[col], 10, labels=False).fillna(-1)\n",
    "\n",
    "# Get mean age for each Room Service bin and use this to impute age\n",
    "age_by_rs = full.groupby('RoomService')['Age'].agg('mean')\n",
    "def impute_age(row):\n",
    "    if pd.isnull(row['Age']):\n",
    "        row['Age'] = age_by_rs.loc[row['RoomService']]\n",
    "    return row\n",
    "full = full.apply(impute_age, axis=1)\n",
    "\n",
    "# Convert planet columns to ordinal encoding\n",
    "planet_ordinal_map = {\n",
    "    'Earth': 0,\n",
    "    'Mars': 1,\n",
    "    'Europa': 2,\n",
    "    '55 Cancri e': 0,\n",
    "    'PSO J318.5-22': 1,\n",
    "    'TRAPPIST-1e': 2 \n",
    "}\n",
    "for col in ['HomePlanet', 'Destination']:\n",
    "    full[col] = full[col].apply(lambda x: planet_ordinal_map[x])\n",
    "\n",
    "# Drop unnecessary columns\n",
    "\n",
    "full = full.drop(['Name', 'Group', 'PassengerId', 'Cabin'], axis=1)\n",
    "full.isnull().sum()"
   ]
  },
  {
   "cell_type": "code",
   "execution_count": 28,
   "metadata": {},
   "outputs": [
    {
     "data": {
      "text/html": [
       "<div>\n",
       "<style scoped>\n",
       "    .dataframe tbody tr th:only-of-type {\n",
       "        vertical-align: middle;\n",
       "    }\n",
       "\n",
       "    .dataframe tbody tr th {\n",
       "        vertical-align: top;\n",
       "    }\n",
       "\n",
       "    .dataframe thead th {\n",
       "        text-align: right;\n",
       "    }\n",
       "</style>\n",
       "<table border=\"1\" class=\"dataframe\">\n",
       "  <thead>\n",
       "    <tr style=\"text-align: right;\">\n",
       "      <th></th>\n",
       "      <th>Age</th>\n",
       "      <th>CabinDeck</th>\n",
       "      <th>CabinPort</th>\n",
       "      <th>CryoSleep</th>\n",
       "      <th>Destination</th>\n",
       "      <th>FoodCourt</th>\n",
       "      <th>GroupSize</th>\n",
       "      <th>HomePlanet</th>\n",
       "      <th>RoomService</th>\n",
       "      <th>ShoppingMall</th>\n",
       "      <th>Spa</th>\n",
       "      <th>VIP</th>\n",
       "      <th>VRDeck</th>\n",
       "    </tr>\n",
       "  </thead>\n",
       "  <tbody>\n",
       "    <tr>\n",
       "      <th>0</th>\n",
       "      <td>39.0</td>\n",
       "      <td>1.0</td>\n",
       "      <td>1.0</td>\n",
       "      <td>0.0</td>\n",
       "      <td>2</td>\n",
       "      <td>-1.0</td>\n",
       "      <td>1</td>\n",
       "      <td>2</td>\n",
       "      <td>-1.0</td>\n",
       "      <td>-1.0</td>\n",
       "      <td>-1.0</td>\n",
       "      <td>0.0</td>\n",
       "      <td>-1.0</td>\n",
       "    </tr>\n",
       "    <tr>\n",
       "      <th>1</th>\n",
       "      <td>24.0</td>\n",
       "      <td>5.0</td>\n",
       "      <td>0.0</td>\n",
       "      <td>0.0</td>\n",
       "      <td>2</td>\n",
       "      <td>1.0</td>\n",
       "      <td>1</td>\n",
       "      <td>0</td>\n",
       "      <td>3.0</td>\n",
       "      <td>2.0</td>\n",
       "      <td>6.0</td>\n",
       "      <td>0.0</td>\n",
       "      <td>2.0</td>\n",
       "    </tr>\n",
       "    <tr>\n",
       "      <th>2</th>\n",
       "      <td>58.0</td>\n",
       "      <td>0.0</td>\n",
       "      <td>0.0</td>\n",
       "      <td>0.0</td>\n",
       "      <td>2</td>\n",
       "      <td>9.0</td>\n",
       "      <td>2</td>\n",
       "      <td>2</td>\n",
       "      <td>2.0</td>\n",
       "      <td>-1.0</td>\n",
       "      <td>9.0</td>\n",
       "      <td>1.0</td>\n",
       "      <td>2.0</td>\n",
       "    </tr>\n",
       "    <tr>\n",
       "      <th>3</th>\n",
       "      <td>33.0</td>\n",
       "      <td>0.0</td>\n",
       "      <td>0.0</td>\n",
       "      <td>0.0</td>\n",
       "      <td>2</td>\n",
       "      <td>7.0</td>\n",
       "      <td>2</td>\n",
       "      <td>2</td>\n",
       "      <td>-1.0</td>\n",
       "      <td>6.0</td>\n",
       "      <td>9.0</td>\n",
       "      <td>0.0</td>\n",
       "      <td>4.0</td>\n",
       "    </tr>\n",
       "    <tr>\n",
       "      <th>4</th>\n",
       "      <td>16.0</td>\n",
       "      <td>5.0</td>\n",
       "      <td>0.0</td>\n",
       "      <td>0.0</td>\n",
       "      <td>2</td>\n",
       "      <td>2.0</td>\n",
       "      <td>1</td>\n",
       "      <td>0</td>\n",
       "      <td>5.0</td>\n",
       "      <td>4.0</td>\n",
       "      <td>6.0</td>\n",
       "      <td>0.0</td>\n",
       "      <td>0.0</td>\n",
       "    </tr>\n",
       "  </tbody>\n",
       "</table>\n",
       "</div>"
      ],
      "text/plain": [
       "    Age  CabinDeck  CabinPort  CryoSleep  Destination  FoodCourt  GroupSize  \\\n",
       "0  39.0        1.0        1.0        0.0            2       -1.0          1   \n",
       "1  24.0        5.0        0.0        0.0            2        1.0          1   \n",
       "2  58.0        0.0        0.0        0.0            2        9.0          2   \n",
       "3  33.0        0.0        0.0        0.0            2        7.0          2   \n",
       "4  16.0        5.0        0.0        0.0            2        2.0          1   \n",
       "\n",
       "   HomePlanet  RoomService  ShoppingMall  Spa  VIP  VRDeck  \n",
       "0           2         -1.0          -1.0 -1.0  0.0    -1.0  \n",
       "1           0          3.0           2.0  6.0  0.0     2.0  \n",
       "2           2          2.0          -1.0  9.0  1.0     2.0  \n",
       "3           2         -1.0           6.0  9.0  0.0     4.0  \n",
       "4           0          5.0           4.0  6.0  0.0     0.0  "
      ]
     },
     "execution_count": 28,
     "metadata": {},
     "output_type": "execute_result"
    }
   ],
   "source": [
    "full.head()"
   ]
  },
  {
   "cell_type": "code",
   "execution_count": 85,
   "metadata": {},
   "outputs": [
    {
     "data": {
      "text/html": [
       "<div>\n",
       "<style scoped>\n",
       "    .dataframe tbody tr th:only-of-type {\n",
       "        vertical-align: middle;\n",
       "    }\n",
       "\n",
       "    .dataframe tbody tr th {\n",
       "        vertical-align: top;\n",
       "    }\n",
       "\n",
       "    .dataframe thead th {\n",
       "        text-align: right;\n",
       "    }\n",
       "</style>\n",
       "<table border=\"1\" class=\"dataframe\">\n",
       "  <thead>\n",
       "    <tr style=\"text-align: right;\">\n",
       "      <th></th>\n",
       "      <th>Model(s) used</th>\n",
       "      <th>Full score</th>\n",
       "      <th>Fold 0</th>\n",
       "      <th>Fold 1</th>\n",
       "      <th>Fold 2</th>\n",
       "    </tr>\n",
       "  </thead>\n",
       "  <tbody>\n",
       "    <tr>\n",
       "      <th>12</th>\n",
       "      <td>XGB, GB</td>\n",
       "      <td>0.811</td>\n",
       "      <td>0.805389</td>\n",
       "      <td>0.813814</td>\n",
       "      <td>0.813814</td>\n",
       "    </tr>\n",
       "    <tr>\n",
       "      <th>51</th>\n",
       "      <td>Log Reg, Decision, GB</td>\n",
       "      <td>0.810</td>\n",
       "      <td>0.808383</td>\n",
       "      <td>0.813814</td>\n",
       "      <td>0.807808</td>\n",
       "    </tr>\n",
       "    <tr>\n",
       "      <th>36</th>\n",
       "      <td>XGB, SVC, GB</td>\n",
       "      <td>0.808</td>\n",
       "      <td>0.799401</td>\n",
       "      <td>0.813814</td>\n",
       "      <td>0.810811</td>\n",
       "    </tr>\n",
       "    <tr>\n",
       "      <th>77</th>\n",
       "      <td>XGB, SVC, Decision, GB</td>\n",
       "      <td>0.807</td>\n",
       "      <td>0.793413</td>\n",
       "      <td>0.807808</td>\n",
       "      <td>0.819820</td>\n",
       "    </tr>\n",
       "    <tr>\n",
       "      <th>82</th>\n",
       "      <td>XGB, Decision, Forest, GB</td>\n",
       "      <td>0.807</td>\n",
       "      <td>0.793413</td>\n",
       "      <td>0.810811</td>\n",
       "      <td>0.816817</td>\n",
       "    </tr>\n",
       "    <tr>\n",
       "      <th>57</th>\n",
       "      <td>SVC, Decision, GB</td>\n",
       "      <td>0.807</td>\n",
       "      <td>0.805389</td>\n",
       "      <td>0.801802</td>\n",
       "      <td>0.813814</td>\n",
       "    </tr>\n",
       "    <tr>\n",
       "      <th>71</th>\n",
       "      <td>XGB, Log Reg, Decision, GB</td>\n",
       "      <td>0.807</td>\n",
       "      <td>0.802395</td>\n",
       "      <td>0.810811</td>\n",
       "      <td>0.807808</td>\n",
       "    </tr>\n",
       "    <tr>\n",
       "      <th>32</th>\n",
       "      <td>XGB, Log Reg, GB</td>\n",
       "      <td>0.806</td>\n",
       "      <td>0.802395</td>\n",
       "      <td>0.804805</td>\n",
       "      <td>0.810811</td>\n",
       "    </tr>\n",
       "    <tr>\n",
       "      <th>81</th>\n",
       "      <td>XGB, KNN, Forest, GB</td>\n",
       "      <td>0.806</td>\n",
       "      <td>0.787425</td>\n",
       "      <td>0.819820</td>\n",
       "      <td>0.810811</td>\n",
       "    </tr>\n",
       "    <tr>\n",
       "      <th>112</th>\n",
       "      <td>XGB, KNN, Decision, Forest, GB</td>\n",
       "      <td>0.806</td>\n",
       "      <td>0.784431</td>\n",
       "      <td>0.816817</td>\n",
       "      <td>0.816817</td>\n",
       "    </tr>\n",
       "  </tbody>\n",
       "</table>\n",
       "</div>"
      ],
      "text/plain": [
       "                      Model(s) used  Full score    Fold 0    Fold 1    Fold 2\n",
       "12                          XGB, GB       0.811  0.805389  0.813814  0.813814\n",
       "51            Log Reg, Decision, GB       0.810  0.808383  0.813814  0.807808\n",
       "36                     XGB, SVC, GB       0.808  0.799401  0.813814  0.810811\n",
       "77           XGB, SVC, Decision, GB       0.807  0.793413  0.807808  0.819820\n",
       "82        XGB, Decision, Forest, GB       0.807  0.793413  0.810811  0.816817\n",
       "57                SVC, Decision, GB       0.807  0.805389  0.801802  0.813814\n",
       "71       XGB, Log Reg, Decision, GB       0.807  0.802395  0.810811  0.807808\n",
       "32                 XGB, Log Reg, GB       0.806  0.802395  0.804805  0.810811\n",
       "81             XGB, KNN, Forest, GB       0.806  0.787425  0.819820  0.810811\n",
       "112  XGB, KNN, Decision, Forest, GB       0.806  0.784431  0.816817  0.816817"
      ]
     },
     "execution_count": 85,
     "metadata": {},
     "output_type": "execute_result"
    }
   ],
   "source": [
    "train2 = full[:train.shape[0]]\n",
    "test2 = full[train.shape[0]:]\n",
    "y = train['Transported']\n",
    "\n",
    "X = StandardScaler().fit_transform(train2)\n",
    "X, X_test, y, y_test = train_test_split(X, y, test_size=1000, random_state=0)\n",
    "X_train, X_valid, y_train, y_valid = train_test_split(X, y, test_size=1000, random_state=0)\n",
    "\n",
    "models = [\n",
    "    ('XGB', XGBClassifier(gamma=5, subsample=0.7, max_depth=6, reg_lambda=1, alpha=0.01)),\n",
    "    ('Log Reg', LogisticRegression(penalty='l2', C=.1)),\n",
    "    ('SVC', SVC(kernel='poly', degree=3, gamma=.1, C=.1, probability=True)),\n",
    "    ('KNN', KNeighborsClassifier(n_neighbors=25)),\n",
    "    ('Decision', DecisionTreeClassifier(max_depth=8, min_samples_leaf=5)),\n",
    "    ('Forest', RandomForestClassifier(max_depth=5, min_samples_leaf=5, n_estimators=50)),\n",
    "    ('GB', GradientBoostingClassifier(max_depth=5, min_samples_leaf=5))\n",
    "]\n",
    "predictions = []\n",
    "for name, model in models:\n",
    "    model.fit(X_train, y_train)\n",
    "    # train_pred = model.predict(X_train)\n",
    "    valid_pred = model.predict_proba(X_valid)\n",
    "    predictions.append((name, valid_pred[:,1]))\n",
    "    # print('Training Accuracy:', accuracy_score(train_pred, y_train))\n",
    "    # print('Validation Accuracy:', accuracy_score(valid_pred, y_valid))\n",
    "    # print('Validation Confusion Matrix:')\n",
    "    # print(confusion_matrix(valid_pred, y_valid))\n",
    "    # print('\\n\\n')\n",
    "mc = ModelComparer(y_true=y_valid, probs=predictions)\n",
    "results = mc.evaluatate_soft_voting(splits=3)\n",
    "results.head(10)"
   ]
  },
  {
   "cell_type": "code",
   "execution_count": 90,
   "metadata": {},
   "outputs": [
    {
     "data": {
      "text/plain": [
       "0.798"
      ]
     },
     "execution_count": 90,
     "metadata": {},
     "output_type": "execute_result"
    }
   ],
   "source": [
    "st_clf = StackingClassifier(\n",
    "    estimators=[\n",
    "        ('xgc', XGBClassifier(gamma=5, subsample=0.7, max_depth=6, reg_lambda=1, alpha=0.01)),\n",
    "        ('gb', GradientBoostingClassifier(max_depth=5, min_samples_leaf=5))\n",
    "    ],\n",
    "    final_estimator=LogisticRegression(penalty='l2', C=.1), cv=5\n",
    ")\n",
    "st_clf.fit(X, y)\n",
    "y_test_pred = st_clf.predict(X_test)\n",
    "accuracy_score(y_test_pred, y_test)"
   ]
  },
  {
   "cell_type": "code",
   "execution_count": 91,
   "metadata": {},
   "outputs": [],
   "source": [
    "test2 = StandardScaler().fit_transform(test2)\n",
    "y_final_predictions = st_clf.predict(test2)\n",
    "output = pd.DataFrame({'PassengerId': test.PassengerId, 'Transported': y_final_predictions})\n",
    "output.to_csv('submission3.csv', index=False)"
   ]
  },
  {
   "cell_type": "code",
   "execution_count": 42,
   "metadata": {},
   "outputs": [
    {
     "name": "stdout",
     "output_type": "stream",
     "text": [
      "Best Score: 0.7987777483808904 Best Params: {'alpha': 0.01, 'gamma': 5, 'lambda': 1, 'max_depth': 6, 'sampling_method': 'uniform', 'subsample': 0.7}\n"
     ]
    }
   ],
   "source": [
    "params = {'gamma': [5], \n",
    "          'subsample': [.7],\n",
    "          'sampling_method': ['uniform'],\n",
    "          'lambda': [.5, 1],\n",
    "          'alpha': [.001, .01,],\n",
    "          'max_depth': [5, 6, 7, 8]\n",
    "          }\n",
    "xgb_clf = XGBClassifier()\n",
    "gs = GridSearchCV(estimator=xgb_clf, \n",
    "                           param_grid=params,\n",
    "                           scoring='accuracy',\n",
    "                           cv=3)\n",
    "gs.fit(X, y)\n",
    "print('Best Score:', gs.best_score_, 'Best Params:', gs.best_params_)"
   ]
  },
  {
   "cell_type": "code",
   "execution_count": 55,
   "metadata": {},
   "outputs": [
    {
     "name": "stdout",
     "output_type": "stream",
     "text": [
      "Best Score: 0.7969577769465555 Best Params: {'max_depth': 5, 'min_samples_leaf': 5, 'n_estimators': 50, 'subsample': 1}\n"
     ]
    }
   ],
   "source": [
    "params = {'n_estimators': [50], \n",
    "          'subsample': [1],\n",
    "          'min_samples_leaf': [1, 3, 5],\n",
    "          'max_depth': [2, 5, 8]\n",
    "          }\n",
    "gb_clf = GradientBoostingClassifier()\n",
    "gs = GridSearchCV(estimator=gb_clf, \n",
    "                           param_grid=params,\n",
    "                           scoring='accuracy',\n",
    "                           cv=3)\n",
    "gs.fit(X, y)\n",
    "print('Best Score:', gs.best_score_, 'Best Params:', gs.best_params_)"
   ]
  },
  {
   "cell_type": "code",
   "execution_count": 78,
   "metadata": {},
   "outputs": [
    {
     "name": "stdout",
     "output_type": "stream",
     "text": [
      "Best Score: 0.7799296319110158 Best Params: {'max_depth': 8, 'min_samples_leaf': 5}\n"
     ]
    }
   ],
   "source": [
    "params = {'min_samples_leaf': [5, 10],\n",
    "          'max_depth': [8, 10, 15]\n",
    "          }\n",
    "dt_clf = DecisionTreeClassifier()\n",
    "gs = GridSearchCV(estimator=dt_clf, \n",
    "                           param_grid=params,\n",
    "                           scoring='accuracy',\n",
    "                           cv=5)\n",
    "gs.fit(X, y)\n",
    "print('Best Score:', gs.best_score_, 'Best Params:', gs.best_params_)"
   ]
  },
  {
   "cell_type": "code",
   "execution_count": 58,
   "metadata": {},
   "outputs": [
    {
     "name": "stdout",
     "output_type": "stream",
     "text": [
      "Best Score: 0.7773291204552666 Best Params: {'n_neighbors': 25}\n"
     ]
    }
   ],
   "source": [
    "params = {'n_neighbors': [15, 20, 25, 30]}\n",
    "kn_clf = KNeighborsClassifier()\n",
    "gs = GridSearchCV(estimator=kn_clf, \n",
    "                           param_grid=params,\n",
    "                           scoring='accuracy',\n",
    "                           cv=3)\n",
    "gs.fit(X, y)\n",
    "print('Best Score:', gs.best_score_, 'Best Params:', gs.best_params_)"
   ]
  },
  {
   "cell_type": "code",
   "execution_count": 61,
   "metadata": {},
   "outputs": [
    {
     "name": "stdout",
     "output_type": "stream",
     "text": [
      "Best Score: 0.7778490398875215 Best Params: {'C': 0.1}\n"
     ]
    }
   ],
   "source": [
    "params = {'C': [0, .001, .01, .1, 1, 10, 100]}\n",
    "log_reg = LogisticRegression(penalty='l2')\n",
    "gs = GridSearchCV(estimator=log_reg, \n",
    "                           param_grid=params,\n",
    "                           scoring='accuracy',\n",
    "                           cv=3)\n",
    "gs.fit(X, y)\n",
    "print('Best Score:', gs.best_score_, 'Best Params:', gs.best_params_)"
   ]
  },
  {
   "cell_type": "code",
   "execution_count": 62,
   "metadata": {},
   "outputs": [
    {
     "name": "stdout",
     "output_type": "stream",
     "text": [
      "Best Score: 0.7960480953351196 Best Params: {'max_depth': 5, 'min_samples_leaf': 5, 'n_estimators': 50}\n"
     ]
    }
   ],
   "source": [
    "params = {'n_estimators': [50, 100, 200], \n",
    "          'min_samples_leaf': [3, 5],\n",
    "          'max_depth': [2, 5, 10, 15]\n",
    "          }\n",
    "gb_clf = GradientBoostingClassifier()\n",
    "gs = GridSearchCV(estimator=gb_clf, \n",
    "                           param_grid=params,\n",
    "                           scoring='accuracy',\n",
    "                           cv=3)\n",
    "gs.fit(X, y)\n",
    "print('Best Score:', gs.best_score_, 'Best Params:', gs.best_params_)"
   ]
  },
  {
   "cell_type": "code",
   "execution_count": 65,
   "metadata": {},
   "outputs": [
    {
     "data": {
      "text/plain": [
       "CryoSleep       0.231544\n",
       "RoomService     0.161912\n",
       "VRDeck          0.158633\n",
       "Spa             0.150215\n",
       "FoodCourt       0.079624\n",
       "HomePlanet      0.072895\n",
       "ShoppingMall    0.059430\n",
       "CabinDeck       0.041079\n",
       "Age             0.026090\n",
       "GroupSize       0.006576\n",
       "CabinPort       0.005922\n",
       "Destination     0.005504\n",
       "VIP             0.000577\n",
       "dtype: float64"
      ]
     },
     "execution_count": 65,
     "metadata": {},
     "output_type": "execute_result"
    }
   ],
   "source": [
    "rf_clf = RandomForestClassifier(max_depth=5, min_samples_leaf=5, n_estimators=50)\n",
    "rf_clf.fit(X, y)\n",
    "feature_names = [col for col in train2.columns]\n",
    "importances = pd.Series(rf_clf.feature_importances_, index=feature_names).sort_values(ascending=False)\n",
    "importances"
   ]
  }
 ],
 "metadata": {
  "kernelspec": {
   "display_name": "Python 3",
   "language": "python",
   "name": "python3"
  },
  "language_info": {
   "codemirror_mode": {
    "name": "ipython",
    "version": 3
   },
   "file_extension": ".py",
   "mimetype": "text/x-python",
   "name": "python",
   "nbconvert_exporter": "python",
   "pygments_lexer": "ipython3",
   "version": "3.11.0"
  }
 },
 "nbformat": 4,
 "nbformat_minor": 2
}
